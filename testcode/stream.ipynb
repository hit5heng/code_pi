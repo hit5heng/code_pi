{
 "cells": [
  {
   "cell_type": "markdown",
   "metadata": {},
   "source": [
    "# OPENCV官方文档:\n",
    "https://docs.opencv.org/3.0-beta/modules/highgui/doc/user_interface.html"
   ]
  },
  {
   "cell_type": "markdown",
   "metadata": {},
   "source": [
    "关于为什么要有0xFF:\n",
    "- On some systems, waitKey() may return a value that encodes more than just the ASCII keycode. \n",
    "- On all systems, we can ensure that we extract just the ASCII keycode by reading the last byte from the return value like this: \n",
    "```python\n",
    "keycode = cv2.waitKey(1)\n",
    "if keycode != -1: \n",
    "    keycode &= 0xFF\n",
    "```"
   ]
  },
  {
   "cell_type": "code",
   "execution_count": 6,
   "metadata": {},
   "outputs": [],
   "source": [
    "# 测试\n",
    "# 人脸检测\n",
    "import cv2\n",
    "\n",
    "cap = cv2.VideoCapture(0)\n",
    "cap.set(3,640) # set Width\n",
    "cap.set(4,480) # set Height\n",
    "\n",
    "faceCascade = cv2.CascadeClassifier('Cascades/haarcascade_frontalface_alt.xml')\n",
    "eyeCascade = cv2.CascadeClassifier('Cascades/haarcascade_eye_tree_eyeglasses.xml')\n",
    "\n",
    "while(True):\n",
    "    ret, frame = cap.read()\n",
    "    \n",
    "    gray = cv2.cvtColor(frame, cv2.COLOR_BGR2GRAY)\n",
    "    # gray 表示输入 grayscale 图像。\n",
    "    # scaleFactor 表示每个图像缩减的比例大小。\n",
    "    # minNeighbors 表示每个备选矩形框具备的邻近数量。数字越大，假正类越少。\n",
    "    # minSize 表示人脸识别的最小矩形大小。\n",
    "    faces = faceCascade.detectMultiScale(\n",
    "        gray, \n",
    "        scaleFactor=1.1,\n",
    "        minNeighbors=2,\n",
    "        minSize=(10, 10),\n",
    "#         flags=cv2.CASCADE_SCALE_IMAGE  # 还不知道什么用\n",
    "    )\n",
    "    for (x,y,w,h) in faces:\n",
    "        # 画矩形框\n",
    "        cv2.rectangle(frame, (x,y), (x+w,y+h), (0,255,0), 2)\n",
    "        roi_color = frame[y:y+h, x:x+w]\n",
    "        \n",
    "    cv2.imshow('frame', frame)\n",
    "    \n",
    "    \n",
    "    \n",
    "    k = cv2.waitKey(10) & 0xff\n",
    "    if k == ord('q'):  # press 'q' to quit  k == ord('q')\n",
    "        break\n",
    "\n",
    "\n",
    "cap.release()\n",
    "cv2.destroyAllWindows()\n",
    "\n",
    "        \n"
   ]
  },
  {
   "cell_type": "code",
   "execution_count": 3,
   "metadata": {},
   "outputs": [],
   "source": [
    "import os\n",
    "import imghdr"
   ]
  },
  {
   "cell_type": "markdown",
   "metadata": {},
   "source": [
    "# 读取树梅派摄像头: MJPG-streamer方式\n",
    "- 参考https://blog.csdn.net/m0_38106923/article/details/86562451#\n",
    "\n",
    "## 启动数梅派\n",
    "- 进入文件夹\n",
    "`cd ./share/mjpg-streamer-master/mjpg-streamer-experimental`\n",
    "- 指令启动普通USB摄像头指令：\n",
    "`./mjpg_streamer -i \"./input_uvc.so\" -o \"./output_http.so -w ./www\"  `\n",
    "- 启动树莓派专用摄像头RaspiCamera的指令：\n",
    "`./mjpg_streamer -i \"./input_raspicam.so\" -o \"./output_http.so -w ./www\"`\n",
    "\n",
    "## 进入页面\n",
    "- 主页 http://192.168.1.101:8080/\n",
    "- 静态 http://192.168.1.101:8080/?action=snapshot\n",
    "- 动态 http://192.168.1.101:8080/?action=stream\n",
    "- 或者 http://192.168.1.101:8080/javascript_simple.html\n",
    "\n",
    "## opencv-python读取stream\n",
    "- 参考1:读取stream https://blog.csdn.net/xiao__run/article/details/76342634\n",
    "- 参考2:读取pdf中的图片 https://blog.csdn.net/u014267567/article/details/73252401"
   ]
  },
  {
   "cell_type": "code",
   "execution_count": 5,
   "metadata": {},
   "outputs": [],
   "source": []
  },
  {
   "cell_type": "code",
   "execution_count": 1,
   "metadata": {
    "scrolled": false
   },
   "outputs": [],
   "source": [
    "# 检测人脸\n",
    "\n",
    "import cv2\n",
    "import urllib\n",
    "import numpy as np\n",
    "import sys\n",
    "\n",
    "\n",
    "def detect(img, cascade):\n",
    "#     gray = cv2.cvtColor(img, cv2.COLOR_BGR2GRAY)  # 不需要转换为灰度图来检测\n",
    "    faces = cascade.detectMultiScale(\n",
    "        img, \n",
    "        scaleFactor=1.1,\n",
    "        minNeighbors=2,\n",
    "        minSize=(10, 10),\n",
    "        # flags=cv2.CASCADE_SCALE_IMAGE  # 还不知道什么用\n",
    "    )\n",
    "    for (x,y,w,h) in faces:\n",
    "        # 画矩形框\n",
    "        cv2.rectangle(img, (x,y), (x+w,y+h), (0,255,0), 2)\n",
    "        # roi_color = frame[y:y+h, x:x+w]  # 截取人脸\n",
    "    return img\n",
    "\n",
    "\n",
    "def get_steam():\n",
    "    faceCascade = cv2.CascadeClassifier('Cascades/haarcascade_frontalface_alt.xml')\n",
    "\n",
    "    host = \"192.168.1.101\"\n",
    "#     if len(sys.argv)>1:\n",
    "#         host = sys.argv[1]\n",
    "    hoststr = 'http://' + host + '/?action=stream'\n",
    "    print('Streaming ' + hoststr)\n",
    "    print('Print \"q\" to quit')\n",
    "\n",
    "    # stream=urllib.request.urlopen(hoststr)\n",
    "    stream = urllib.request.urlopen(\"http://192.168.1.101:8080/?action=stream\")\n",
    "\n",
    "    bytes1 = b''\n",
    "    while True:\n",
    "        bytes1 += stream.read(1024)\n",
    "        startmark = bytes1.find(b'\\xff\\xd8')\n",
    "        endmark = bytes1.find(b'\\xff\\xd9')\n",
    "        if startmark != -1 and endmark != -1:\n",
    "            jpg = bytes1[startmark:endmark + 2]\n",
    "            bytes1 = bytes1[endmark + 2:] #flags = 1 for color image \n",
    "            i = cv2.imdecode(np.fromstring(jpg, dtype=np.uint8),flags=1) # print i.shape\n",
    "\n",
    "            img = detect(i, faceCascade)\n",
    "\n",
    "            cv2.imshow(\"pi stream\",img)\n",
    "            if cv2.waitKey(1) & 0xFF == ord('q'):\n",
    "    #             exit(0)\n",
    "                break\n",
    "\n",
    "    stream.close()\n",
    "    cv2.destroyAllWindows()"
   ]
  },
  {
   "cell_type": "code",
   "execution_count": 2,
   "metadata": {},
   "outputs": [
    {
     "name": "stdout",
     "output_type": "stream",
     "text": [
      "Streaming http://192.168.1.101/?action=stream\n",
      "Print \"q\" to quit\n"
     ]
    },
    {
     "name": "stderr",
     "output_type": "stream",
     "text": [
      "/home/steven/anaconda3/envs/py37/lib/python3.7/site-packages/ipykernel_launcher.py:46: DeprecationWarning: The binary mode of fromstring is deprecated, as it behaves surprisingly on unicode inputs. Use frombuffer instead\n"
     ]
    }
   ],
   "source": [
    "get_steam()"
   ]
  },
  {
   "cell_type": "code",
   "execution_count": null,
   "metadata": {},
   "outputs": [],
   "source": []
  }
 ],
 "metadata": {
  "kernelspec": {
   "display_name": "Python [conda env:py37]",
   "language": "python",
   "name": "conda-env-py37-py"
  },
  "language_info": {
   "codemirror_mode": {
    "name": "ipython",
    "version": 3
   },
   "file_extension": ".py",
   "mimetype": "text/x-python",
   "name": "python",
   "nbconvert_exporter": "python",
   "pygments_lexer": "ipython3",
   "version": "3.7.3"
  }
 },
 "nbformat": 4,
 "nbformat_minor": 2
}
